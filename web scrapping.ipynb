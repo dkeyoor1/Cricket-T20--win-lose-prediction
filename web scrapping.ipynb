{
 "cells": [
  {
   "cell_type": "code",
   "execution_count": 1,
   "id": "30aa098f",
   "metadata": {},
   "outputs": [],
   "source": [
    "import pandas as pd\n",
    "import numpy as np\n",
    "import requests\n",
    "from bs4 import BeautifulSoup as bs\n",
    "#from selenium import webdriver\n",
    "import re\n",
    "import time\n",
    "import random\n",
    "\n",
    "from tqdm.notebook import tqdm\n",
    "import json"
   ]
  },
  {
   "cell_type": "code",
   "execution_count": 2,
   "id": "420a796e",
   "metadata": {},
   "outputs": [],
   "source": [
    "# Specify url\n",
    "url = 'https://www.cricbuzz.com/live-cricket-scores/43191/ind-vs-zim-42nd-match-super-12-group-2-icc-mens-t20-world-cup-2022/'\n"
   ]
  },
  {
   "cell_type": "code",
   "execution_count": 3,
   "id": "2300fec0",
   "metadata": {},
   "outputs": [],
   "source": [
    "response = requests.get(url)\n",
    "\n",
    "soup = bs(response.content, 'html.parser')\n",
    "score = soup.findAll(\"div\",attrs={\"class\",\"cb-col cb-col-67 cb-scrs-wrp\"})"
   ]
  },
  {
   "cell_type": "code",
   "execution_count": 4,
   "id": "7548ae6b",
   "metadata": {},
   "outputs": [
    {
     "data": {
      "text/plain": [
       "[<div class=\"cb-col cb-col-67 cb-scrs-wrp\"> <div class=\"cb-text-gray cb-font-16\"> IND 186/5 (20) </div> <div class=\"cb-min-bat-rw\"> <span class=\"cb-font-20 text-bold\"> ZIM 36/4 (7.2) </span> <span class=\"cb-font-12 cb-text-gray\"> <span class=\"text-bold\">  CRR: </span><span>4.91</span> </span> <span class=\"cb-font-12 cb-text-gray\"> <span class=\"text-bold\">  REQ: </span><span>11.92</span> </span> </div> <div class=\"cb-text-inprogress\">Zimbabwe need 151 runs in 76 balls</div> </div>]"
      ]
     },
     "execution_count": 4,
     "metadata": {},
     "output_type": "execute_result"
    }
   ],
   "source": [
    "score"
   ]
  },
  {
   "cell_type": "code",
   "execution_count": 5,
   "id": "3deeb863",
   "metadata": {},
   "outputs": [],
   "source": [
    "#convert from bs4 to list\n",
    "\n",
    "def get_lst(bs4_ip):\n",
    "    bs4_ip_cleaned = [] \n",
    "    for x in bs4_ip:\n",
    "        bs4_ip_cleaned.append(str(x))\n",
    "    temp = bs4_ip_cleaned[0]\n",
    "    return str(bs4_ip_cleaned)"
   ]
  },
  {
   "cell_type": "code",
   "execution_count": 6,
   "id": "0d641f5b",
   "metadata": {},
   "outputs": [],
   "source": [
    "converted_lst = get_lst(score)"
   ]
  },
  {
   "cell_type": "code",
   "execution_count": 7,
   "id": "94d0dde6",
   "metadata": {},
   "outputs": [
    {
     "data": {
      "text/plain": [
       "'[\\'<div class=\"cb-col cb-col-67 cb-scrs-wrp\"> <div class=\"cb-text-gray cb-font-16\"> IND 186/5 (20) </div> <div class=\"cb-min-bat-rw\"> <span class=\"cb-font-20 text-bold\"> ZIM 36/4 (7.2) </span> <span class=\"cb-font-12 cb-text-gray\"> <span class=\"text-bold\">\\\\xa0\\\\xa0CRR:\\\\xa0</span><span>4.91</span> </span> <span class=\"cb-font-12 cb-text-gray\"> <span class=\"text-bold\">\\\\xa0\\\\xa0REQ:\\\\xa0</span><span>11.92</span> </span> </div> <div class=\"cb-text-inprogress\">Zimbabwe need 151 runs in 76 balls</div> </div>\\']'"
      ]
     },
     "execution_count": 7,
     "metadata": {},
     "output_type": "execute_result"
    }
   ],
   "source": [
    "converted_lst"
   ]
  },
  {
   "cell_type": "code",
   "execution_count": 8,
   "id": "5638c52a",
   "metadata": {},
   "outputs": [],
   "source": [
    "bowling_team_cleaned = converted_lst.partition('<div class=\"cb-col cb-col-67 cb-scrs-wrp\"> <div class=\"cb-text-gray cb-font-16\">')[2]\n",
    "bowling_team_cleaned = bowling_team_cleaned.partition('</div>')[0]     \n",
    "\n",
    "bowling_team_name = bowling_team_cleaned[1:4]\n",
    "bowling_team_score = bowling_team_cleaned.partition('/')[0]     \n",
    "bowling_team_score = re.sub(\"[^0-9]\", \"\", bowling_team_score)\n",
    "bowling_team_score = int(bowling_team_score)"
   ]
  },
  {
   "cell_type": "code",
   "execution_count": 9,
   "id": "29002bb0",
   "metadata": {},
   "outputs": [
    {
     "data": {
      "text/plain": [
       "'IND'"
      ]
     },
     "execution_count": 9,
     "metadata": {},
     "output_type": "execute_result"
    }
   ],
   "source": [
    "bowling_team_name"
   ]
  },
  {
   "cell_type": "code",
   "execution_count": 10,
   "id": "47d4266b",
   "metadata": {},
   "outputs": [
    {
     "data": {
      "text/plain": [
       "186"
      ]
     },
     "execution_count": 10,
     "metadata": {},
     "output_type": "execute_result"
    }
   ],
   "source": [
    "bowling_team_score"
   ]
  },
  {
   "cell_type": "code",
   "execution_count": 11,
   "id": "9595ee22",
   "metadata": {},
   "outputs": [],
   "source": [
    "batting_team_cleaned = converted_lst.partition('<span class=\"cb-font-20 text-bold\">')[2]\n",
    "batting_team_cleaned = batting_team_cleaned.partition('</span>')[0]\n",
    "\n",
    "batting_team_name = batting_team_cleaned[1:4]\n",
    "batting_team_score = batting_team_cleaned.partition('/')[0]\n",
    "batting_team_score = re.sub(\"[^0-9]\", \"\", batting_team_score)\n",
    "batting_team_score = int(batting_team_score)\n",
    "\n",
    "batting_team_wickets = batting_team_cleaned.partition('/')[2]\n",
    "batting_team_wickets = batting_team_wickets.partition('(')[0]\n",
    "batting_team_wickets = batting_team_wickets.replace(' ','')\n",
    "batting_team_wickets = int(batting_team_wickets)"
   ]
  },
  {
   "cell_type": "code",
   "execution_count": 12,
   "id": "3dcccb86",
   "metadata": {},
   "outputs": [],
   "source": [
    "overs = batting_team_cleaned.partition('(')[2]\n",
    "overs = overs.partition(')')[0]\n",
    "\n",
    "\n",
    "overs_played = overs.partition('.')[0]\n",
    "\n",
    "if '.' in overs:\n",
    "    balls = overs.partition('.')[2]\n",
    "else:\n",
    "    balls = 0\n"
   ]
  },
  {
   "cell_type": "code",
   "execution_count": 13,
   "id": "c8880595",
   "metadata": {},
   "outputs": [],
   "source": [
    "overs_played = int(overs_played)\n",
    "over_to_balls = 6*overs_played"
   ]
  },
  {
   "cell_type": "code",
   "execution_count": 14,
   "id": "81be2055",
   "metadata": {},
   "outputs": [
    {
     "data": {
      "text/plain": [
       "2"
      ]
     },
     "execution_count": 14,
     "metadata": {},
     "output_type": "execute_result"
    }
   ],
   "source": [
    "balls  = int(balls)\n",
    "balls"
   ]
  },
  {
   "cell_type": "code",
   "execution_count": 15,
   "id": "ca6fd6d0",
   "metadata": {},
   "outputs": [
    {
     "data": {
      "text/plain": [
       "44"
      ]
     },
     "execution_count": 15,
     "metadata": {},
     "output_type": "execute_result"
    }
   ],
   "source": [
    "total_balls = over_to_balls + balls\n",
    "total_balls"
   ]
  },
  {
   "cell_type": "code",
   "execution_count": 16,
   "id": "9ef9c310",
   "metadata": {},
   "outputs": [
    {
     "data": {
      "text/plain": [
       "76"
      ]
     },
     "execution_count": 16,
     "metadata": {},
     "output_type": "execute_result"
    }
   ],
   "source": [
    "balls_left = 120- total_balls\n",
    "balls_left"
   ]
  },
  {
   "cell_type": "code",
   "execution_count": 17,
   "id": "b9332dc2",
   "metadata": {},
   "outputs": [
    {
     "data": {
      "text/plain": [
       "4"
      ]
     },
     "execution_count": 17,
     "metadata": {},
     "output_type": "execute_result"
    }
   ],
   "source": [
    "batting_team_wickets"
   ]
  },
  {
   "cell_type": "code",
   "execution_count": 18,
   "id": "7cf89fd4",
   "metadata": {},
   "outputs": [],
   "source": [
    "batting_team_wickets = int(batting_team_wickets)\n",
    "wickets_left = 10-batting_team_wickets"
   ]
  },
  {
   "cell_type": "code",
   "execution_count": 19,
   "id": "38d4fa67",
   "metadata": {},
   "outputs": [
    {
     "data": {
      "text/plain": [
       "'ZIM'"
      ]
     },
     "execution_count": 19,
     "metadata": {},
     "output_type": "execute_result"
    }
   ],
   "source": [
    "batting_team_name"
   ]
  },
  {
   "cell_type": "code",
   "execution_count": 20,
   "id": "b71c7cd9",
   "metadata": {},
   "outputs": [
    {
     "data": {
      "text/plain": [
       "36"
      ]
     },
     "execution_count": 20,
     "metadata": {},
     "output_type": "execute_result"
    }
   ],
   "source": [
    "batting_team_score"
   ]
  },
  {
   "cell_type": "code",
   "execution_count": 21,
   "id": "2adb8dda",
   "metadata": {},
   "outputs": [
    {
     "data": {
      "text/plain": [
       "151"
      ]
     },
     "execution_count": 21,
     "metadata": {},
     "output_type": "execute_result"
    }
   ],
   "source": [
    "runs_left = (bowling_team_score - batting_team_score) + 1\n",
    "runs_left"
   ]
  },
  {
   "cell_type": "code",
   "execution_count": 22,
   "id": "27afc91e",
   "metadata": {},
   "outputs": [],
   "source": [
    "response = requests.get(url)\n",
    "\n",
    "soup = bs(response.content, 'html.parser')\n",
    "stadium = soup.findAll(\"div\",attrs={\"class\",\"cb-nav-subhdr cb-font-12\"})\n",
    "\n",
    "stadium_lst = get_lst(stadium)\n"
   ]
  },
  {
   "cell_type": "code",
   "execution_count": 23,
   "id": "18715093",
   "metadata": {},
   "outputs": [
    {
     "data": {
      "text/plain": [
       "'Melbourne Cricket Ground'"
      ]
     },
     "execution_count": 23,
     "metadata": {},
     "output_type": "execute_result"
    }
   ],
   "source": [
    "stadium_lst_cleaned = stadium_lst.partition('itemtype=\"http://schema.org/Place\"')[2]\n",
    "stadium_lst_cleaned = stadium_lst_cleaned.partition(',')[0]\n",
    "stadium_lst_cleaned = stadium_lst_cleaned.partition('title=\"')[2]\n",
    "stadium_lst_cleaned "
   ]
  },
  {
   "cell_type": "code",
   "execution_count": 24,
   "id": "b19cc58f",
   "metadata": {},
   "outputs": [],
   "source": [
    "df = pd.DataFrame()\n",
    "\n",
    "df['batting_team'] = [batting_team_name]\n",
    "df['bowling_team'] = bowling_team_name\n",
    "df['city'] = stadium_lst_cleaned\n",
    "df['runs_left'] = runs_left\n",
    "df['balls_left'] = balls_left\n",
    "df['wickets'] = wickets_left\n",
    "df['total_run_x'] =  bowling_team_score\n",
    "df['current_score'] =  batting_team_score\n",
    "\n",
    "\n",
    "#current RR\n",
    "df['crr'] = (df['current_score']*6)/(120-df['balls_left'])\n",
    "\n",
    "#required RR\n",
    "df['rrr'] = (df['runs_left']*6)/df['balls_left']\n",
    "df['rrr'] = df['rrr'].fillna(0)\n",
    "df['rrr'] = np.where(df['rrr'].astype(str) == 'inf',111,df['rrr'])"
   ]
  },
  {
   "cell_type": "code",
   "execution_count": 25,
   "id": "42ec3a5c",
   "metadata": {},
   "outputs": [
    {
     "data": {
      "text/html": [
       "<div>\n",
       "<style scoped>\n",
       "    .dataframe tbody tr th:only-of-type {\n",
       "        vertical-align: middle;\n",
       "    }\n",
       "\n",
       "    .dataframe tbody tr th {\n",
       "        vertical-align: top;\n",
       "    }\n",
       "\n",
       "    .dataframe thead th {\n",
       "        text-align: right;\n",
       "    }\n",
       "</style>\n",
       "<table border=\"1\" class=\"dataframe\">\n",
       "  <thead>\n",
       "    <tr style=\"text-align: right;\">\n",
       "      <th></th>\n",
       "      <th>batting_team</th>\n",
       "      <th>bowling_team</th>\n",
       "      <th>city</th>\n",
       "      <th>runs_left</th>\n",
       "      <th>balls_left</th>\n",
       "      <th>wickets</th>\n",
       "      <th>total_run_x</th>\n",
       "      <th>current_score</th>\n",
       "      <th>crr</th>\n",
       "      <th>rrr</th>\n",
       "    </tr>\n",
       "  </thead>\n",
       "  <tbody>\n",
       "    <tr>\n",
       "      <th>0</th>\n",
       "      <td>ZIM</td>\n",
       "      <td>IND</td>\n",
       "      <td>Melbourne Cricket Ground</td>\n",
       "      <td>151</td>\n",
       "      <td>76</td>\n",
       "      <td>6</td>\n",
       "      <td>186</td>\n",
       "      <td>36</td>\n",
       "      <td>4.909091</td>\n",
       "      <td>11.921053</td>\n",
       "    </tr>\n",
       "  </tbody>\n",
       "</table>\n",
       "</div>"
      ],
      "text/plain": [
       "  batting_team bowling_team                      city  runs_left  balls_left  \\\n",
       "0          ZIM          IND  Melbourne Cricket Ground        151          76   \n",
       "\n",
       "   wickets  total_run_x  current_score       crr        rrr  \n",
       "0        6          186             36  4.909091  11.921053  "
      ]
     },
     "execution_count": 25,
     "metadata": {},
     "output_type": "execute_result"
    }
   ],
   "source": [
    "df.head()"
   ]
  },
  {
   "cell_type": "code",
   "execution_count": 26,
   "id": "84cd0af3",
   "metadata": {},
   "outputs": [],
   "source": [
    "df.to_csv(r'D:\\Data Science\\Projects\\Cricket t20\\Data\\Prepared\\prediction set\\test.csv',index=False)"
   ]
  },
  {
   "cell_type": "code",
   "execution_count": null,
   "id": "2df63ec8",
   "metadata": {},
   "outputs": [],
   "source": []
  }
 ],
 "metadata": {
  "kernelspec": {
   "display_name": "Python 3 (ipykernel)",
   "language": "python",
   "name": "python3"
  },
  "language_info": {
   "codemirror_mode": {
    "name": "ipython",
    "version": 3
   },
   "file_extension": ".py",
   "mimetype": "text/x-python",
   "name": "python",
   "nbconvert_exporter": "python",
   "pygments_lexer": "ipython3",
   "version": "3.11.2"
  }
 },
 "nbformat": 4,
 "nbformat_minor": 5
}
