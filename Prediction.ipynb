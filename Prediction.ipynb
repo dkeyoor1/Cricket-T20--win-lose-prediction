{
 "cells": [
  {
   "cell_type": "code",
   "execution_count": null,
   "id": "e846fd44",
   "metadata": {},
   "outputs": [],
   "source": [
    "import pandas as pd\n",
    "import numpy as np\n",
    "import matplotlib.pyplot as plt\n",
    "import seaborn as sns\n",
    "from tqdm.notebook import tqdm\n",
    "from sklearn import preprocessing\n",
    "\n",
    "from sklearn.ensemble import RandomForestClassifier\n",
    "from sklearn.linear_model import LogisticRegression\n",
    "from sklearn import metrics"
   ]
  },
  {
   "cell_type": "code",
   "execution_count": null,
   "id": "d0d046ad",
   "metadata": {},
   "outputs": [],
   "source": [
    "delivery_df = pd.read_csv(r'D:\\Data Science\\Projects\\Cricket t20\\Data\\Prepared\\prepared.csv')"
   ]
  },
  {
   "cell_type": "code",
   "execution_count": null,
   "id": "e8998108",
   "metadata": {},
   "outputs": [],
   "source": [
    "final_df = delivery_df[['batting_team','bowling_team','city','runs_left','balls_left','wickets','total_run_x','crr','rrr','result']]\n",
    "\n",
    "final_df['rrr'] = final_df['rrr'].round(2)\n",
    "final_df['crr'] = final_df['crr'].round(2)"
   ]
  },
  {
   "cell_type": "code",
   "execution_count": null,
   "id": "f951a11e",
   "metadata": {},
   "outputs": [],
   "source": [
    "final_df2 = final_df.copy()"
   ]
  },
  {
   "cell_type": "code",
   "execution_count": null,
   "id": "19aeeded",
   "metadata": {},
   "outputs": [],
   "source": [
    "final_df2.head(3)"
   ]
  },
  {
   "cell_type": "code",
   "execution_count": null,
   "id": "cc3cd397",
   "metadata": {},
   "outputs": [],
   "source": [
    "cols = ['batting_team', 'bowling_team', 'city', 'runs_left', 'balls_left',\n",
    "       'wickets', 'total_run_x', 'crr', 'rrr']\n",
    "\n",
    "target = ['result']"
   ]
  },
  {
   "cell_type": "code",
   "execution_count": null,
   "id": "932815d8",
   "metadata": {},
   "outputs": [],
   "source": [
    "X = final_df2[cols]"
   ]
  },
  {
   "cell_type": "code",
   "execution_count": null,
   "id": "9cd194c2",
   "metadata": {},
   "outputs": [],
   "source": [
    "X_train = final_df2.loc[delivery_df['date']<'2022-08-01'][cols]\n",
    "X_test = final_df2.loc[delivery_df['date']>='2022-08-01'][cols]\n",
    "\n",
    "y_train = final_df2.loc[delivery_df['date']<'2022-08-01']['result']\n",
    "y_test =  final_df2.loc[delivery_df['date']>='2022-08-01']['result']\n"
   ]
  },
  {
   "cell_type": "code",
   "execution_count": null,
   "id": "643f30ab",
   "metadata": {},
   "outputs": [],
   "source": [
    "print('Records in: \\n X_train: {0} \\n y_train: {1} \\n X_test: {2} \\n y_test: {3}'.format(X_train.shape, y_train.shape, X_test.shape, y_test.shape))"
   ]
  },
  {
   "cell_type": "code",
   "execution_count": null,
   "id": "41f26bd0",
   "metadata": {},
   "outputs": [],
   "source": [
    "from sklearn.preprocessing import OneHotEncoder, LabelEncoder, OrdinalEncoder\n",
    "\n",
    "## ENCODING\n",
    "\n",
    "ordinal_encoder = OrdinalEncoder()\n",
    "ordinal_encoder_train_test = OrdinalEncoder(handle_unknown='use_encoded_value',unknown_value=np.nan)\n",
    "\n",
    "cat_vars = [c for c in X.columns if X.loc[~X[c].isnull(),c].dtype=='object']\n",
    "\n",
    "X_train[cat_vars] = X_train[cat_vars].fillna(\"UNKNOWN\")\n",
    "X_test[cat_vars] = X_test[cat_vars].fillna(\"UNKNOWN\")\n",
    "\n",
    "# X_encoded = X.copy()\n",
    "# X_encoded[cat_vars] = ordinal_encoder.fit_transform(X_encoded[cat_vars])\n",
    "\n",
    "### Train test encoding\n",
    "X_train_encoded = X_train.copy()\n",
    "X_train_encoded[cat_vars] = ordinal_encoder_train_test.fit_transform(X_train_encoded[cat_vars])\n",
    "\n",
    "X_test_encoded = X_test.copy()\n",
    "X_test_encoded[cat_vars] = ordinal_encoder_train_test.transform(X_test_encoded[cat_vars])\n",
    "\n",
    "print('Filling missing values')\n",
    "temp = X_test_encoded.columns[X_test_encoded.isna().any()].tolist()\n",
    "if len(temp) != 0: \n",
    "    temp = list(set(cat_vars).intersection(set(list(temp)))) \n",
    "    for t in tqdm(temp): \n",
    "        i = list(cat_vars).index(t) \n",
    "        X_test_encoded[t] = X_test_encoded[t].fillna(len(ordinal_encoder_train_test.categories_[i])) \n",
    "\n",
    "        \n",
    "# X_test_encoded.dropna(inplace=True)\n",
    "y_test = y_test[y_test.index.isin(X_test_encoded.index)]\n"
   ]
  },
  {
   "cell_type": "code",
   "execution_count": null,
   "id": "4eda41f9",
   "metadata": {},
   "outputs": [],
   "source": [
    "X_train.head(1)"
   ]
  },
  {
   "cell_type": "code",
   "execution_count": null,
   "id": "2b588076",
   "metadata": {},
   "outputs": [],
   "source": [
    "#model_names = ['Linear', 'Ridge','Lasso','Elastic','Stohastic Gradient Descent','Random Forest','XGB','SVR']\n",
    "model_names = ['LR']\n",
    "models = [\n",
    "            LogisticRegression(solver='liblinear'),\n",
    "            #Ridge(alpha=100, solver='cholesky', tol=0.0001, random_state=0),\n",
    "            #Lasso(alpha=0.1, precompute=True, warm_start=True, positive=True, selection='random', random_state=0),\n",
    "            #ElasticNet(alpha=0.1, l1_ratio=0.9, selection='random', random_state=0),\n",
    "            #SGDRegressor(n_iter_no_change=250, penalty=None, eta0=0.0001, max_iter=100000),\n",
    "            #RandomForestClassifier(random_state=0),\n",
    "            #XGBRegressor(random_state=0),\n",
    "            #SVR(kernel='rbf', C=1000000, epsilon=0.001)\n",
    "       \n",
    "         ]"
   ]
  },
  {
   "cell_type": "code",
   "execution_count": null,
   "id": "81e3931a",
   "metadata": {},
   "outputs": [],
   "source": [
    "#def predictions(train,target,model)\n",
    "results = pd.DataFrame()\n",
    "all_preds = pd.DataFrame()\n",
    "\n",
    "for i in range(len(model_names)):\n",
    "    model1 = models[i].fit(X_train_encoded,y_train)\n",
    "    pred = model1.predict(X_test_encoded)\n",
    "    accuracy =  metrics.accuracy_score(y_test, pred)\n",
    "    precision = metrics.precision_score(y_test, pred)\n",
    "    recall = np.sqrt(metrics.recall_score(y_test, pred))\n",
    "    f1_score = metrics.f1_score(y_test,pred).round(2)\n",
    "    r2_square = metrics.r2_score(y_test, pred).round(2)\n",
    "    \n",
    "    Model_accuracies = pd.DataFrame({'model_name':model_names[i], 'accuracy':accuracy, 'precision':precision, 'recall':recall, 'f1_score':f1_score},index = np.arange(1))\n",
    "    Model_accuracies\n",
    "    \n",
    "    predictions = pd.DataFrame({model_names[i]:pred}).reset_index(drop=True)\n",
    "    all_preds = pd.concat([all_preds,predictions],axis=1)\n",
    "    \n",
    "    results = results.append(Model_accuracies)\n",
    "    results = results.reset_index(drop=True)\n",
    "    \n"
   ]
  },
  {
   "cell_type": "code",
   "execution_count": null,
   "id": "d6f18309",
   "metadata": {},
   "outputs": [],
   "source": [
    "results"
   ]
  },
  {
   "cell_type": "code",
   "execution_count": null,
   "id": "37de6cfa",
   "metadata": {},
   "outputs": [],
   "source": [
    "\n",
    "filename = 'LR_prob.sav'\n",
    "#pickle.dump(model1, open('D:/Data Science/Projects/Cricket t20/Data/Analysis/Predictions/Models/Trial ' + str(trial_model) + filename, 'wb'))\n",
    "\n"
   ]
  },
  {
   "cell_type": "code",
   "execution_count": null,
   "id": "83c8beba",
   "metadata": {},
   "outputs": [],
   "source": [
    "trial_model = 3"
   ]
  },
  {
   "cell_type": "code",
   "execution_count": null,
   "id": "422cd4dc",
   "metadata": {},
   "outputs": [],
   "source": [
    "##### SAVE TRAINED MODEL AND RELATED FILES\n",
    "import os\n",
    "import pickle\n",
    "import joblib\n",
    "\n",
    "trail_path = r'D:\\Data Science\\Projects\\Cricket t20\\Data\\Analysis\\Predictions\\Models/Trial {0}'.format(trial_model)\n",
    "\n",
    "save_trained_column_names_path = r'D:\\Data Science\\Projects\\Cricket t20\\Data\\Analysis\\Predictions\\Models/Trial {0}/trained_column_names.npy'.format(trial_model)\n",
    "save_class_names_path = r'D:\\Data Science\\Projects\\Cricket t20\\Data\\Analysis\\Predictions\\Models/Trial {0}/classes_names.npy'.format(trial_model)\n",
    "save_classes_encoding_path = r'D:\\Data Science\\Projects\\Cricket t20\\Data\\Analysis\\Predictions\\Models/Trial {0}/classes_encoding.npy'.format(trial_model)\n",
    "#save_feature_scaler_path = r'D:\\Data Science\\Projects\\Cricket t20\\Data\\Analysis\\Predictions\\Models/Trial {0}/feature_scaler.pkl'.format(trial_model)\n",
    "#save_scaled_features_path = r'D:\\Data Science\\Projects\\Cricket t20\\Data\\Analysis\\Predictions\\Models/Trial {0}/scaled_features.npy'.format(trial_model)\n",
    "\n",
    "\n",
    "if os.path.exists(trail_path):\n",
    "    print('File Exists!! Change File Name.')\n",
    "else:\n",
    "    os.makedirs(trail_path)\n",
    "    \n",
    "    for m in model_names:\n",
    "        print(m)\n",
    "        joblib.dump(model1,r'D:\\Data Science\\Projects\\Cricket t20\\Data\\Analysis\\Predictions\\Models/Trial {0}/model_{1}.pkl'.format(trial_model,m), compress=1)\n",
    "    np.save(save_trained_column_names_path,cols)\n",
    "    np.save(save_class_names_path, cat_vars)\n",
    "    np.save(save_classes_encoding_path, ordinal_encoder_train_test.categories_)\n",
    "    #joblib.dump(scaler,save_feature_scaler_path, compress=1)\n",
    "    #np.save(save_scaled_features_path, to_scale)"
   ]
  },
  {
   "cell_type": "code",
   "execution_count": null,
   "id": "cc8b43c3",
   "metadata": {},
   "outputs": [],
   "source": [
    "# get importance\n",
    "importance = model1.coef_[0]"
   ]
  },
  {
   "cell_type": "code",
   "execution_count": null,
   "id": "a05a69a2",
   "metadata": {},
   "outputs": [],
   "source": [
    "features = ['batting_team','bowling_team','city','runs_left','balls_left','wickets','total_run_x','crr','rrr']"
   ]
  },
  {
   "cell_type": "code",
   "execution_count": null,
   "id": "c87ebd66",
   "metadata": {},
   "outputs": [],
   "source": [
    "var_imp_df = pd.DataFrame({'var_name': features,\n",
    "                   'importance': importance*100}).sort_values(by='importance',ascending=False)\n",
    "\n",
    "var_imp_df.head(10)"
   ]
  },
  {
   "cell_type": "code",
   "execution_count": null,
   "id": "a399af62",
   "metadata": {},
   "outputs": [],
   "source": [
    "results"
   ]
  },
  {
   "cell_type": "code",
   "execution_count": null,
   "id": "a8542d62",
   "metadata": {},
   "outputs": [],
   "source": [
    "test_all = delivery_df.loc[delivery_df['date']>='2022-08-01'].reset_index(drop=False)\n",
    "test = final_df2.loc[delivery_df['date']>='2022-08-01'].reset_index(drop=False)"
   ]
  },
  {
   "cell_type": "code",
   "execution_count": null,
   "id": "9806d6aa",
   "metadata": {},
   "outputs": [],
   "source": [
    "num = 919\n",
    "print(test.iloc[num])\n",
    "\n",
    "print('################################################################ \\n')\n",
    "\n",
    "print(model1.predict_proba(X_test_encoded)[num])"
   ]
  },
  {
   "cell_type": "code",
   "execution_count": null,
   "id": "f311b5ef",
   "metadata": {},
   "outputs": [],
   "source": [
    "pred_prob = model1.predict_proba(X_test_encoded)\n",
    "pred_prob_df = pd.DataFrame(pred_prob,columns=['bowling_team_pred','batting_team_pred'])"
   ]
  },
  {
   "cell_type": "code",
   "execution_count": null,
   "id": "2dc12077",
   "metadata": {},
   "outputs": [],
   "source": [
    "predictions = pd.DataFrame({'predictions':pred}).reset_index()\n",
    "test_all = pd.concat([test_all,predictions,pred_prob_df],axis=1)"
   ]
  },
  {
   "cell_type": "code",
   "execution_count": null,
   "id": "91b080ff",
   "metadata": {},
   "outputs": [],
   "source": [
    "test_all.to_clipboard()"
   ]
  },
  {
   "cell_type": "code",
   "execution_count": null,
   "id": "0ead53c5",
   "metadata": {},
   "outputs": [],
   "source": [
    "test_all.head(2)"
   ]
  },
  {
   "cell_type": "code",
   "execution_count": null,
   "id": "3753e51f",
   "metadata": {},
   "outputs": [],
   "source": [
    "len(test_all['mergeid'].unique())"
   ]
  },
  {
   "cell_type": "code",
   "execution_count": null,
   "id": "386e0439",
   "metadata": {},
   "outputs": [],
   "source": [
    "#accuracy of last 5 overs\n",
    "final_df = pd.DataFrame()\n",
    "\n",
    "for i in test_all['mergeid'].unique():\n",
    "    temp = test_all[test_all['mergeid'] == i]\n",
    "    temp = temp.tail(30)\n",
    "    final_df = pd.concat([final_df,temp],axis=0)\n",
    "    \n",
    "    \n",
    "#test_all[['result','predictions']]\n",
    "metrics.accuracy_score(final_df['result'], final_df['predictions'])    "
   ]
  },
  {
   "cell_type": "code",
   "execution_count": null,
   "id": "8b89b10b",
   "metadata": {},
   "outputs": [],
   "source": [
    "#accuracy of each macth\n",
    "final_df = pd.DataFrame()\n",
    "\n",
    "for i in test_all['mergeid'].unique():\n",
    "    temp = test_all[test_all['mergeid'] == i]\n",
    "    print(temp['batting_team'].unique()[0] , ' vs ',temp['bowling_team'].unique()[0],\": \", metrics.accuracy_score(temp['result'], temp['predictions']))\n",
    "\n",
    "    \n"
   ]
  },
  {
   "cell_type": "code",
   "execution_count": null,
   "id": "23b17563",
   "metadata": {},
   "outputs": [],
   "source": [
    "#accuracy of each macth\n",
    "final_df = pd.DataFrame()\n",
    "\n",
    "for i in test_all['mergeid'].unique():\n",
    "    temp = test_all[test_all['mergeid'] == i]\n",
    "    temp = temp.tail(30)\n",
    "    print(temp['batting_team'].unique()[0] , ' vs ',temp['bowling_team'].unique()[0],\": \", metrics.accuracy_score(temp['result'], temp['predictions']))\n",
    "\n",
    "    \n"
   ]
  },
  {
   "cell_type": "code",
   "execution_count": null,
   "id": "68d5dbe3",
   "metadata": {},
   "outputs": [],
   "source": [
    "#test_all[['result','predictions']]\n",
    "metrics.accuracy_score(test_all['result'], test_all['predictions'])"
   ]
  },
  {
   "cell_type": "code",
   "execution_count": null,
   "id": "56a75d0b",
   "metadata": {},
   "outputs": [],
   "source": [
    "results['Trial_number'] = trial_model\n",
    "results['summary'] = 'columns changed'\n",
    "\n"
   ]
  },
  {
   "cell_type": "code",
   "execution_count": null,
   "id": "f7c23ae0",
   "metadata": {},
   "outputs": [],
   "source": [
    "results.to_csv(r'D:\\Data Science\\Projects\\Cricket t20\\Data\\Analysis\\Predictions\\summary\\summary_' +str(trial_model) + '.csv',index=False)\n",
    "test_all.to_csv(r'D:\\Data Science\\Projects\\Cricket t20\\Data\\Analysis\\Predictions\\Test_set\\pred1_' +str(trial_model) + '.csv',index=False)\n",
    "var_imp_df.to_csv(r'D:\\Data Science\\Projects\\Cricket t20\\Data\\Analysis\\Predictions\\Var_imp\\varimp_' + str(trial_model) + '.csv',index=False)"
   ]
  },
  {
   "cell_type": "code",
   "execution_count": null,
   "id": "3e16cc31",
   "metadata": {},
   "outputs": [],
   "source": []
  },
  {
   "cell_type": "code",
   "execution_count": null,
   "id": "3d493ceb",
   "metadata": {},
   "outputs": [],
   "source": []
  },
  {
   "cell_type": "code",
   "execution_count": null,
   "id": "a6696267",
   "metadata": {},
   "outputs": [],
   "source": []
  },
  {
   "cell_type": "code",
   "execution_count": null,
   "id": "24c8e19b",
   "metadata": {},
   "outputs": [],
   "source": []
  },
  {
   "cell_type": "code",
   "execution_count": null,
   "id": "0d9a280e",
   "metadata": {},
   "outputs": [],
   "source": []
  },
  {
   "cell_type": "code",
   "execution_count": null,
   "id": "6b7ab51c",
   "metadata": {},
   "outputs": [],
   "source": []
  },
  {
   "cell_type": "code",
   "execution_count": null,
   "id": "48fe49ca",
   "metadata": {},
   "outputs": [],
   "source": []
  },
  {
   "cell_type": "code",
   "execution_count": null,
   "id": "18ce1b6a",
   "metadata": {},
   "outputs": [],
   "source": []
  },
  {
   "cell_type": "code",
   "execution_count": null,
   "id": "87e731ce",
   "metadata": {},
   "outputs": [],
   "source": []
  },
  {
   "cell_type": "code",
   "execution_count": null,
   "id": "a3fb9895",
   "metadata": {},
   "outputs": [],
   "source": []
  },
  {
   "cell_type": "code",
   "execution_count": null,
   "id": "17facadb",
   "metadata": {},
   "outputs": [],
   "source": []
  },
  {
   "cell_type": "code",
   "execution_count": null,
   "id": "3c997b94",
   "metadata": {},
   "outputs": [],
   "source": []
  },
  {
   "cell_type": "code",
   "execution_count": null,
   "id": "7ed8ff1b",
   "metadata": {},
   "outputs": [],
   "source": []
  },
  {
   "cell_type": "code",
   "execution_count": null,
   "id": "b19240db",
   "metadata": {},
   "outputs": [],
   "source": []
  },
  {
   "cell_type": "code",
   "execution_count": null,
   "id": "7137300e",
   "metadata": {},
   "outputs": [],
   "source": []
  },
  {
   "cell_type": "code",
   "execution_count": null,
   "id": "816be058",
   "metadata": {},
   "outputs": [],
   "source": []
  },
  {
   "cell_type": "code",
   "execution_count": null,
   "id": "c2e177ef",
   "metadata": {},
   "outputs": [],
   "source": []
  },
  {
   "cell_type": "code",
   "execution_count": null,
   "id": "438517ae",
   "metadata": {},
   "outputs": [],
   "source": []
  },
  {
   "cell_type": "code",
   "execution_count": null,
   "id": "83fc226a",
   "metadata": {},
   "outputs": [],
   "source": []
  }
 ],
 "metadata": {
  "kernelspec": {
   "display_name": "Python 3 (ipykernel)",
   "language": "python",
   "name": "python3"
  },
  "language_info": {
   "codemirror_mode": {
    "name": "ipython",
    "version": 3
   },
   "file_extension": ".py",
   "mimetype": "text/x-python",
   "name": "python",
   "nbconvert_exporter": "python",
   "pygments_lexer": "ipython3",
   "version": "3.11.2"
  }
 },
 "nbformat": 4,
 "nbformat_minor": 5
}
