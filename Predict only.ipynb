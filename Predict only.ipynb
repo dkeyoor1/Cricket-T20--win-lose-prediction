{
 "cells": [
  {
   "cell_type": "code",
   "execution_count": 2,
   "id": "15d9a996",
   "metadata": {},
   "outputs": [],
   "source": [
    "import pandas as pd\n",
    "import numpy as np\n",
    "import matplotlib.pyplot as plt\n",
    "import seaborn as sns\n",
    "from tqdm.notebook import tqdm\n",
    "from sklearn import preprocessing\n",
    "\n",
    "from sklearn.preprocessing import OrdinalEncoder\n",
    "\n",
    "from sklearn import metrics\n",
    "\n",
    "import joblib\n",
    "import pickle\n",
    "import os\n",
    "import fnmatch"
   ]
  },
  {
   "cell_type": "code",
   "execution_count": 3,
   "id": "771b5b46",
   "metadata": {},
   "outputs": [],
   "source": [
    "trial='Trial '"
   ]
  },
  {
   "cell_type": "raw",
   "id": "55074bb5",
   "metadata": {},
   "source": [
    "# load the model from disk\n",
    "filename = 'LR_prob.sav'\n",
    "loaded_model = pickle.load(open('D:/Data Science/Projects/Cricket t20/Data/Analysis/Predictions/Models/Trial 1/' + filename, 'rb'))\n",
    "#result = loaded_model.score(X_test, y_test)\n",
    "#print(result)"
   ]
  },
  {
   "cell_type": "raw",
   "id": "76c0a7be",
   "metadata": {},
   "source": [
    "loaded_model"
   ]
  },
  {
   "cell_type": "markdown",
   "id": "37f5b08d",
   "metadata": {},
   "source": [
    "### Load the model"
   ]
  },
  {
   "cell_type": "code",
   "execution_count": 4,
   "id": "f2a32302",
   "metadata": {},
   "outputs": [
    {
     "data": {
      "text/plain": [
       "['LR']"
      ]
     },
     "execution_count": 4,
     "metadata": {},
     "output_type": "execute_result"
    }
   ],
   "source": [
    "model_names=[]\n",
    "for file in os.listdir(r'D:/Data Science/Projects/Cricket t20/Data/Analysis/Predictions/Models/Trial 3/'):\n",
    "    if fnmatch.fnmatch(file, 'model*.pkl'):\n",
    "        model_names.append(file[6:-4])\n",
    "model_names"
   ]
  },
  {
   "cell_type": "code",
   "execution_count": 5,
   "id": "d26662ef",
   "metadata": {},
   "outputs": [],
   "source": [
    "trial_model = 3"
   ]
  },
  {
   "cell_type": "code",
   "execution_count": 6,
   "id": "d2cb9dde",
   "metadata": {},
   "outputs": [
    {
     "name": "stdout",
     "output_type": "stream",
     "text": [
      "D:\\Data Science\\Projects\\Cricket t20\\Data\\Analysis\\Predictions\\Models/Trial 3/trained_column_names.npy\n",
      "D:\\Data Science\\Projects\\Cricket t20\\Data\\Analysis\\Predictions\\Models/Trial 3/classes_names.npy\n",
      "D:\\Data Science\\Projects\\Cricket t20\\Data\\Analysis\\Predictions\\Models/Trial 3/classes_encoding.npy\n"
     ]
    }
   ],
   "source": [
    "\n",
    "trail_path = r'D:\\Data Science\\Projects\\Cricket t20\\Data\\Analysis\\Predictions\\Models/Trial {0}'.format(trial_model)\n",
    "\n",
    "save_trained_column_names_path = r'D:\\Data Science\\Projects\\Cricket t20\\Data\\Analysis\\Predictions\\Models/Trial {0}/trained_column_names.npy'.format(trial_model)\n",
    "save_class_names_path = r'D:\\Data Science\\Projects\\Cricket t20\\Data\\Analysis\\Predictions\\Models/Trial {0}/classes_names.npy'.format(trial_model)\n",
    "save_classes_encoding_path = r'D:\\Data Science\\Projects\\Cricket t20\\Data\\Analysis\\Predictions\\Models/Trial {0}/classes_encoding.npy'.format(trial_model)\n",
    "#save_feature_scaler_path = r'D:\\Data Science\\Projects\\Cricket t20\\Data\\Analysis\\Predictions\\Models/Trial {0}/feature_scaler.pkl'.format(trial_model)\n",
    "#save_scaled_features_path = r'D:\\Data Science\\Projects\\Cricket t20\\Data\\Analysis\\Predictions\\Models/Trial {0}/scaled_features.npy'.format(trial_model)\n",
    "\n",
    "\n",
    "print(save_trained_column_names_path,\n",
    "      save_class_names_path,save_classes_encoding_path,sep='\\n')\n"
   ]
  },
  {
   "cell_type": "code",
   "execution_count": 7,
   "id": "3be560c3",
   "metadata": {},
   "outputs": [],
   "source": [
    "trial = 'Trial 3'"
   ]
  },
  {
   "cell_type": "code",
   "execution_count": 8,
   "id": "f9b7ca4a",
   "metadata": {},
   "outputs": [
    {
     "name": "stdout",
     "output_type": "stream",
     "text": [
      "LR\n"
     ]
    }
   ],
   "source": [
    "## Import trained model\n",
    "models={}\n",
    "for m in model_names:\n",
    "    print(m)\n",
    "    models[m] = joblib.load(r'D:\\Data Science\\Projects\\Cricket t20\\Data\\Analysis\\Predictions\\Models/{0}/model_{1}.pkl'.format(trial,m))\n",
    "\n",
    "## Initializing and loading Encoder\n",
    "oe_loaded= OrdinalEncoder(handle_unknown='use_encoded_value',unknown_value=np.nan)\n",
    "oe_loaded.categories_ = np.load(save_classes_encoding_path, allow_pickle=True)\n",
    "\n",
    "## Importing variable names used for encoding\n",
    "cat_vars = np.load(save_class_names_path, allow_pickle=True)\n",
    "\n",
    "## Importing variable names used for training\n",
    "relevant_cols = np.load(save_trained_column_names_path, allow_pickle=True)\n",
    "\n",
    "## Import scaler\n",
    "#scaler = joblib.load(save_feature_scaler_path)\n",
    "\n",
    "## Importing variable names used for scaling\n",
    "#to_scale = np.load(save_scaled_features_path, allow_pickle=True)"
   ]
  },
  {
   "cell_type": "code",
   "execution_count": 9,
   "id": "c935ec60",
   "metadata": {},
   "outputs": [
    {
     "data": {
      "text/plain": [
       "array([array(['AFGHANISTAN', 'ARGENTINA', 'AUSTRALIA', 'AUSTRIA', 'BAHAMAS',\n",
       "              'BAHRAIN', 'BANGLADESH', 'BELGIUM', 'BELIZE', 'BERMUDA', 'BHUTAN',\n",
       "              'BOTSWANA', 'BULGARIA', 'CAMEROON', 'CANADA', 'CAYMAN ISLANDS',\n",
       "              'CROATIA', 'CYPRUS', 'CZECH REPUBLIC', 'DENMARK', 'ENGLAND',\n",
       "              'ESTONIA', 'FINLAND', 'FRANCE', 'GERMANY', 'GHANA', 'GIBRALTAR',\n",
       "              'GREECE', 'GUERNSEY', 'HONG KONG', 'HUNGARY', 'ICC WORLD XI',\n",
       "              'INDIA', 'IRELAND', 'ISLE OF MAN', 'ISRAEL', 'ITALY', 'JERSEY',\n",
       "              'KENYA', 'KUWAIT', 'LESOTHO', 'LUXEMBOURG', 'MALAWI', 'MALAYSIA',\n",
       "              'MALDIVES', 'MALTA', 'MOZAMBIQUE', 'NAMIBIA', 'NEPAL',\n",
       "              'NETHERLANDS', 'NEW ZEALAND', 'NIGERIA', 'NORWAY', 'OMAN',\n",
       "              'PAKISTAN', 'PANAMA', 'PAPUA NEW GUINEA', 'PHILIPPINES',\n",
       "              'PORTUGAL', 'QATAR', 'ROMANIA', 'RWANDA', 'SAUDI ARABIA',\n",
       "              'SCOTLAND', 'SERBIA', 'SEYCHELLES', 'SIERRA LEONE', 'SINGAPORE',\n",
       "              'SLOVENIA', 'SOUTH AFRICA', 'SPAIN', 'SRI LANKA', 'SWEDEN',\n",
       "              'SWITZERLAND', 'TANZANIA', 'THAILAND', 'TURKEY', 'UGANDA',\n",
       "              'UNITED ARAB EMIRATES', 'UNITED STATES OF AMERICA', 'VANUATU',\n",
       "              'WEST INDIES', 'ZIMBABWE'], dtype=object)                         ,\n",
       "       array(['AFGHANISTAN', 'ARGENTINA', 'AUSTRALIA', 'AUSTRIA', 'BAHAMAS',\n",
       "              'BAHRAIN', 'BANGLADESH', 'BELGIUM', 'BELIZE', 'BERMUDA', 'BHUTAN',\n",
       "              'BOTSWANA', 'BULGARIA', 'CAMEROON', 'CANADA', 'CAYMAN ISLANDS',\n",
       "              'CROATIA', 'CYPRUS', 'CZECH REPUBLIC', 'DENMARK', 'ENGLAND',\n",
       "              'ESTONIA', 'FINLAND', 'FRANCE', 'GERMANY', 'GHANA', 'GIBRALTAR',\n",
       "              'GREECE', 'GUERNSEY', 'HONG KONG', 'HUNGARY', 'INDIA', 'IRAN',\n",
       "              'IRELAND', 'ISLE OF MAN', 'ISRAEL', 'ITALY', 'JERSEY', 'KENYA',\n",
       "              'KUWAIT', 'LESOTHO', 'LUXEMBOURG', 'MALAWI', 'MALAYSIA',\n",
       "              'MALDIVES', 'MALTA', 'MOZAMBIQUE', 'NAMIBIA', 'NEPAL',\n",
       "              'NETHERLANDS', 'NEW ZEALAND', 'NIGERIA', 'NORWAY', 'OMAN',\n",
       "              'PAKISTAN', 'PANAMA', 'PAPUA NEW GUINEA', 'PHILIPPINES',\n",
       "              'PORTUGAL', 'QATAR', 'ROMANIA', 'RWANDA', 'SCOTLAND', 'SERBIA',\n",
       "              'SEYCHELLES', 'SIERRA LEONE', 'SINGAPORE', 'SLOVENIA',\n",
       "              'SOUTH AFRICA', 'SPAIN', 'SRI LANKA', 'SWAZILAND', 'SWEDEN',\n",
       "              'SWITZERLAND', 'TANZANIA', 'THAILAND', 'TURKEY', 'UGANDA',\n",
       "              'UNITED ARAB EMIRATES', 'UNITED STATES OF AMERICA', 'VANUATU',\n",
       "              'WEST INDIES', 'ZIMBABWE'], dtype=object)                         ,\n",
       "       array(['ABU DHABI', 'ADELAIDE', 'ADELAIDE OVAL', 'AHMEDABAD', 'AL AMARAT',\n",
       "              'ALBERGARIA', 'ALMERIA', 'AMSTELVEEN', 'ANTIGUA', 'AUCKLAND',\n",
       "              'BANGALORE', 'BANGI', 'BANGKOK', 'BARBADOS', 'BASSETERRE',\n",
       "              'BELFAST', 'BELGRADE', 'BENGALURU', 'BIRMINGHAM', 'BLOEMFONTEIN',\n",
       "              'BREADY', 'BRIDGETOWN', 'BRISBANE', 'BRISTOL', 'BRONDBY',\n",
       "              'BULAWAYO', 'CANBERRA', 'CAPE TOWN', 'CARDIFF', 'CARRARA OVAL',\n",
       "              'CASTEL', 'CENTURION', 'CHANDIGARH', 'CHATTOGRAM', 'CHENNAI',\n",
       "              'CHESTER-LE-STREET', 'CHITTAGONG', 'CHRISTCHURCH', 'COLOMBO',\n",
       "              'COOLIDGE', 'CUTTACK', 'DEHRA DUN', 'DEHRADUN', 'DELHI', 'DERRY',\n",
       "              'DEVENTER', 'DHAKA', 'DHARAMSALA', 'DHARMASALA', 'DOHA',\n",
       "              'DOMINICA', 'DUBAI', 'DUBAI INTERNATIONAL CRICKET STADIUM',\n",
       "              'DUBLIN', 'DUNEDIN', 'DURBAN', 'EAST LONDON', 'EDINBURGH',\n",
       "              'ENTEBBE', 'EPISKOPI', 'FATULLAH', 'GHENT', 'GREATER NOIDA',\n",
       "              'GROS ISLET', 'GUWAHATI', 'GUYANA', 'HAMBANTOTA', 'HAMILTON',\n",
       "              'HARARE', 'HARARE SPORTS CLUB', 'HOBART', 'HONG KONG', 'HYDERABAD',\n",
       "              'ILFOV COUNTY', 'INDORE', 'JAIPUR', 'JAMAICA', 'JOHANNESBURG',\n",
       "              'KAMPALA', 'KANDY', 'KANPUR', 'KARACHI', 'KERAVA', 'KHULNA',\n",
       "              'KIGALI CITY', 'KIMBERLEY', 'KING CITY', 'KIRTIPUR', 'KOLKATA',\n",
       "              'KREFELD', 'KUALA LUMPUR', 'LAGOS', 'LAHORE', 'LAUDERHILL',\n",
       "              'LEEDS', 'LONDON', 'LONDONDERRY', 'LUCKNOW', 'MANCHESTER', 'MARSA',\n",
       "              'MELBOURNE', 'MELBOURNE CRICKET GROUND', 'MIRPUR',\n",
       "              'MOARA VLASIEI CRICKET GROUND', 'MOMBASA SPORTS CLUB GROUND',\n",
       "              'MOUNT MAUNGANUI', 'MUMBAI', 'MURCIA', 'NAGPUR', 'NAIROBI',\n",
       "              'NAPIER', 'NELSON', 'NORTH SOUND', 'NOTTINGHAM', 'PAARL',\n",
       "              'PALLEKELE INTERNATIONAL CRICKET STADIUM', 'PERTH',\n",
       "              'PORT ELIZABETH', 'PORT MORESBY', 'POTCHEFSTROOM', 'PRAGUE',\n",
       "              'PROVIDENCE', 'PUNE', 'RAJKOT', 'RANCHI',\n",
       "              'RAWALPINDI CRICKET STADIUM', 'ROSEAU', 'ROTTERDAM', 'SHARJAH',\n",
       "              'SHARJAH CRICKET STADIUM', 'SINGAPORE', 'SOFIA', 'SOUTHAMPTON',\n",
       "              \"ST GEORGE'S\", 'ST KITTS', 'ST LUCIA', 'ST PETER PORT',\n",
       "              'ST VINCENT', 'SYDNEY', 'SYDNEY CRICKET GROUND', 'SYLHET',\n",
       "              'SYLHET INTERNATIONAL CRICKET STADIUM', 'SYLHET STADIUM',\n",
       "              'TAROUBA', 'TAUNTON', 'THE HAGUE', 'THIRUVANANTHAPURAM',\n",
       "              'TOWNSVILLE', 'TRINIDAD', 'UTRECHT', 'VANTAA', 'VICTORIA',\n",
       "              'VISAKHAPATNAM', 'WALFERDANGE', 'WATERLOO', 'WELLINGTON',\n",
       "              'WINDHOEK'], dtype=object)                                         ],\n",
       "      dtype=object)"
      ]
     },
     "execution_count": 9,
     "metadata": {},
     "output_type": "execute_result"
    }
   ],
   "source": [
    "oe_loaded.categories_"
   ]
  },
  {
   "cell_type": "code",
   "execution_count": 10,
   "id": "2127bfda",
   "metadata": {},
   "outputs": [
    {
     "data": {
      "text/plain": [
       "array(['batting_team', 'bowling_team', 'city', 'runs_left', 'balls_left',\n",
       "       'wickets', 'total_run_x', 'crr', 'rrr'], dtype='<U12')"
      ]
     },
     "execution_count": 10,
     "metadata": {},
     "output_type": "execute_result"
    }
   ],
   "source": [
    "relevant_cols"
   ]
  },
  {
   "cell_type": "code",
   "execution_count": 11,
   "id": "e22bd081",
   "metadata": {},
   "outputs": [
    {
     "data": {
      "text/plain": [
       "59"
      ]
     },
     "execution_count": 11,
     "metadata": {},
     "output_type": "execute_result"
    }
   ],
   "source": [
    "151-92"
   ]
  },
  {
   "cell_type": "code",
   "execution_count": 12,
   "id": "5240c7a5",
   "metadata": {},
   "outputs": [],
   "source": [
    "df = pd.read_csv(r'D:\\Data Science\\Projects\\Cricket t20\\Data\\Prepared\\prediction set\\test.csv')"
   ]
  },
  {
   "cell_type": "code",
   "execution_count": 13,
   "id": "29779c7f",
   "metadata": {},
   "outputs": [],
   "source": [
    "#df = pd.DataFrame()\n",
    "\n",
    "df['batting_team'] = ['ZIMBABWE']\n",
    "df['bowling_team'] = 'INDIA'\n",
    "df['city'] = 'MELBOURNE CRICKET GROUND'\n",
    "#df['runs_left'] = 59\n",
    "#df['balls_left'] = 33\n",
    "#df['wickets'] = 8\n",
    "#df['total_run_x'] =  151\n",
    "#df['current_score'] =  92\n",
    "\n",
    "\n",
    "#current RR\n",
    "#df['crr'] = (df['current_score']*6)/(120-df['balls_left'])\n",
    "\n",
    "#required RR\n",
    "#df['rrr'] = (df['runs_left']*6)/df['balls_left']\n",
    "#df['rrr'] = df['rrr'].fillna(0)\n",
    "#df['rrr'] = np.where(df['rrr'].astype(str) == 'inf',111,df['rrr'])"
   ]
  },
  {
   "cell_type": "code",
   "execution_count": 14,
   "id": "a4f7bdf5",
   "metadata": {},
   "outputs": [],
   "source": [
    "df1 = df[['batting_team', 'bowling_team', 'city', 'runs_left', 'balls_left', 'wickets', 'total_run_x', 'current_score', 'crr', 'rrr']]"
   ]
  },
  {
   "cell_type": "code",
   "execution_count": 15,
   "id": "25527a74",
   "metadata": {},
   "outputs": [
    {
     "data": {
      "text/plain": [
       "(1, 9)"
      ]
     },
     "execution_count": 15,
     "metadata": {},
     "output_type": "execute_result"
    }
   ],
   "source": [
    "df_encoded = df1[relevant_cols].copy()\n",
    "df_encoded[cat_vars] = df_encoded[cat_vars].fillna(\"UNKNOWN\")\n",
    "df_encoded[cat_vars] = oe_loaded.transform(df_encoded[cat_vars])\n",
    "\n",
    "for t in cat_vars: ##Change\n",
    "    i = list(cat_vars).index(t) ##Change\n",
    "    df_encoded[t] = df_encoded[t].fillna(len(oe_loaded.categories_[i])) ##Change\n",
    "\n",
    "df_encoded.dropna(inplace=True)\n",
    "df_encoded.shape"
   ]
  },
  {
   "cell_type": "code",
   "execution_count": 16,
   "id": "44d493f6",
   "metadata": {},
   "outputs": [
    {
     "data": {
      "text/plain": [
       "batting_team    0.0\n",
       "bowling_team    0.0\n",
       "city            0.0\n",
       "runs_left       0.0\n",
       "balls_left      0.0\n",
       "wickets         0.0\n",
       "total_run_x     0.0\n",
       "crr             0.0\n",
       "rrr             0.0\n",
       "dtype: float64"
      ]
     },
     "execution_count": 16,
     "metadata": {},
     "output_type": "execute_result"
    }
   ],
   "source": [
    "df_encoded.isnull().mean().sort_values(ascending=False)"
   ]
  },
  {
   "cell_type": "code",
   "execution_count": 17,
   "id": "28c43712",
   "metadata": {},
   "outputs": [
    {
     "data": {
      "text/html": [
       "<div>\n",
       "<style scoped>\n",
       "    .dataframe tbody tr th:only-of-type {\n",
       "        vertical-align: middle;\n",
       "    }\n",
       "\n",
       "    .dataframe tbody tr th {\n",
       "        vertical-align: top;\n",
       "    }\n",
       "\n",
       "    .dataframe thead th {\n",
       "        text-align: right;\n",
       "    }\n",
       "</style>\n",
       "<table border=\"1\" class=\"dataframe\">\n",
       "  <thead>\n",
       "    <tr style=\"text-align: right;\">\n",
       "      <th></th>\n",
       "      <th>batting_team</th>\n",
       "      <th>bowling_team</th>\n",
       "      <th>city</th>\n",
       "      <th>runs_left</th>\n",
       "      <th>balls_left</th>\n",
       "      <th>wickets</th>\n",
       "      <th>total_run_x</th>\n",
       "      <th>crr</th>\n",
       "      <th>rrr</th>\n",
       "    </tr>\n",
       "  </thead>\n",
       "  <tbody>\n",
       "    <tr>\n",
       "      <th>0</th>\n",
       "      <td>82.0</td>\n",
       "      <td>31.0</td>\n",
       "      <td>101.0</td>\n",
       "      <td>155</td>\n",
       "      <td>78</td>\n",
       "      <td>6</td>\n",
       "      <td>186</td>\n",
       "      <td>4.571429</td>\n",
       "      <td>11.923077</td>\n",
       "    </tr>\n",
       "  </tbody>\n",
       "</table>\n",
       "</div>"
      ],
      "text/plain": [
       "   batting_team  bowling_team   city  runs_left  balls_left  wickets  \\\n",
       "0          82.0          31.0  101.0        155          78        6   \n",
       "\n",
       "   total_run_x       crr        rrr  \n",
       "0          186  4.571429  11.923077  "
      ]
     },
     "execution_count": 17,
     "metadata": {},
     "output_type": "execute_result"
    }
   ],
   "source": [
    "df_encoded"
   ]
  },
  {
   "cell_type": "code",
   "execution_count": 18,
   "id": "89da4224",
   "metadata": {},
   "outputs": [
    {
     "data": {
      "text/plain": [
       "{'LR': LogisticRegression(solver='liblinear')}"
      ]
     },
     "execution_count": 18,
     "metadata": {},
     "output_type": "execute_result"
    }
   ],
   "source": [
    "models"
   ]
  },
  {
   "cell_type": "code",
   "execution_count": 19,
   "id": "e2e826ed",
   "metadata": {},
   "outputs": [
    {
     "data": {
      "text/html": [
       "<div>\n",
       "<style scoped>\n",
       "    .dataframe tbody tr th:only-of-type {\n",
       "        vertical-align: middle;\n",
       "    }\n",
       "\n",
       "    .dataframe tbody tr th {\n",
       "        vertical-align: top;\n",
       "    }\n",
       "\n",
       "    .dataframe thead th {\n",
       "        text-align: right;\n",
       "    }\n",
       "</style>\n",
       "<table border=\"1\" class=\"dataframe\">\n",
       "  <thead>\n",
       "    <tr style=\"text-align: right;\">\n",
       "      <th></th>\n",
       "      <th>bowling_team_pred</th>\n",
       "      <th>batting_team_pred</th>\n",
       "    </tr>\n",
       "  </thead>\n",
       "  <tbody>\n",
       "    <tr>\n",
       "      <th>0</th>\n",
       "      <td>0.984013</td>\n",
       "      <td>0.015987</td>\n",
       "    </tr>\n",
       "  </tbody>\n",
       "</table>\n",
       "</div>"
      ],
      "text/plain": [
       "   bowling_team_pred  batting_team_pred\n",
       "0           0.984013           0.015987"
      ]
     },
     "execution_count": 19,
     "metadata": {},
     "output_type": "execute_result"
    }
   ],
   "source": [
    "#check predicition\n",
    "pred_win = models[m].predict(df_encoded)\n",
    "pred_win_df = pd.DataFrame({'predictions':pred_win}).reset_index()\n",
    "\n",
    "#Check probability\n",
    "pred_prob = models[m].predict_proba(df_encoded)\n",
    "pred_prob_df = pd.DataFrame(pred_prob,columns=['bowling_team_pred','batting_team_pred'])\n",
    "pred_prob_df"
   ]
  },
  {
   "cell_type": "code",
   "execution_count": 20,
   "id": "9a37c05b",
   "metadata": {},
   "outputs": [
    {
     "data": {
      "text/html": [
       "<div>\n",
       "<style scoped>\n",
       "    .dataframe tbody tr th:only-of-type {\n",
       "        vertical-align: middle;\n",
       "    }\n",
       "\n",
       "    .dataframe tbody tr th {\n",
       "        vertical-align: top;\n",
       "    }\n",
       "\n",
       "    .dataframe thead th {\n",
       "        text-align: right;\n",
       "    }\n",
       "</style>\n",
       "<table border=\"1\" class=\"dataframe\">\n",
       "  <thead>\n",
       "    <tr style=\"text-align: right;\">\n",
       "      <th></th>\n",
       "      <th>batting_team</th>\n",
       "      <th>bowling_team</th>\n",
       "      <th>city</th>\n",
       "      <th>runs_left</th>\n",
       "      <th>balls_left</th>\n",
       "      <th>wickets</th>\n",
       "      <th>total_run_x</th>\n",
       "      <th>current_score</th>\n",
       "      <th>crr</th>\n",
       "      <th>rrr</th>\n",
       "      <th>index</th>\n",
       "      <th>predictions</th>\n",
       "      <th>bowling_team_pred</th>\n",
       "      <th>batting_team_pred</th>\n",
       "    </tr>\n",
       "  </thead>\n",
       "  <tbody>\n",
       "    <tr>\n",
       "      <th>0</th>\n",
       "      <td>ZIMBABWE</td>\n",
       "      <td>INDIA</td>\n",
       "      <td>MELBOURNE CRICKET GROUND</td>\n",
       "      <td>155</td>\n",
       "      <td>78</td>\n",
       "      <td>6</td>\n",
       "      <td>186</td>\n",
       "      <td>32</td>\n",
       "      <td>4.571429</td>\n",
       "      <td>11.923077</td>\n",
       "      <td>0</td>\n",
       "      <td>0</td>\n",
       "      <td>0.984013</td>\n",
       "      <td>0.015987</td>\n",
       "    </tr>\n",
       "  </tbody>\n",
       "</table>\n",
       "</div>"
      ],
      "text/plain": [
       "  batting_team bowling_team                      city  runs_left  balls_left  \\\n",
       "0     ZIMBABWE        INDIA  MELBOURNE CRICKET GROUND        155          78   \n",
       "\n",
       "   wickets  total_run_x  current_score       crr        rrr  index  \\\n",
       "0        6          186             32  4.571429  11.923077      0   \n",
       "\n",
       "   predictions  bowling_team_pred  batting_team_pred  \n",
       "0            0           0.984013           0.015987  "
      ]
     },
     "execution_count": 20,
     "metadata": {},
     "output_type": "execute_result"
    }
   ],
   "source": [
    "predictions = pd.concat([df1,pred_win_df,pred_prob_df],axis=1)\n",
    "predictions"
   ]
  },
  {
   "cell_type": "code",
   "execution_count": null,
   "id": "20f3117f",
   "metadata": {},
   "outputs": [],
   "source": []
  },
  {
   "cell_type": "code",
   "execution_count": null,
   "id": "3ff7251b",
   "metadata": {},
   "outputs": [],
   "source": []
  }
 ],
 "metadata": {
  "kernelspec": {
   "display_name": "Python 3 (ipykernel)",
   "language": "python",
   "name": "python3"
  },
  "language_info": {
   "codemirror_mode": {
    "name": "ipython",
    "version": 3
   },
   "file_extension": ".py",
   "mimetype": "text/x-python",
   "name": "python",
   "nbconvert_exporter": "python",
   "pygments_lexer": "ipython3",
   "version": "3.11.2"
  }
 },
 "nbformat": 4,
 "nbformat_minor": 5
}
